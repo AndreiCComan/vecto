{
 "cells": [
  {
   "cell_type": "markdown",
   "metadata": {},
   "source": [
    "# Show how to build compositional embeddings for sentences and how to search similar sentences\n",
    "\n",
    "This is a sketch, I will finish it tomorrow if needed"
   ]
  },
  {
   "cell_type": "code",
   "execution_count": 1,
   "metadata": {},
   "outputs": [],
   "source": [
    "%load_ext autoreload\n",
    "%autoreload 2\n",
    "\n",
    "from vecto.embeddings.dense import WordEmbeddingsDense\n",
    "from vecto.embeddings.composite import ArithmeticMeanVector, GeometricMeanVector, \\\n",
    "    IDFArithmeticMeanVector, IDFGeometricMeanVector, \\\n",
    "    precompute_composite_embeddings\n",
    "from vecto.corpus import DirCorpus, word_tokenize_txt\n",
    "from vecto.vocabulary import create_from_dir"
   ]
  },
  {
   "cell_type": "code",
   "execution_count": 2,
   "metadata": {},
   "outputs": [],
   "source": [
    "INPUT_CORPUS_PATH = '/notebook/tests/data/corpora/plain/'"
   ]
  },
  {
   "cell_type": "markdown",
   "metadata": {},
   "source": [
    "Load pretrained word-level embeddings"
   ]
  },
  {
   "cell_type": "code",
   "execution_count": 3,
   "metadata": {},
   "outputs": [],
   "source": [
    "base_word_embeddings = WordEmbeddingsDense()\n",
    "base_word_embeddings.load_from_text('/notebook/glove.6B.300d.txt')"
   ]
  },
  {
   "cell_type": "markdown",
   "metadata": {},
   "source": [
    "Load vocabulary with frequencies and list of sentences"
   ]
  },
  {
   "cell_type": "code",
   "execution_count": 4,
   "metadata": {},
   "outputs": [],
   "source": [
    "vocab_with_frequencies = create_from_dir(INPUT_CORPUS_PATH)\n",
    "sentences = [' '.join(s) for s in DirCorpus(INPUT_CORPUS_PATH, by_line=False).get_sentence_iterator()]"
   ]
  },
  {
   "cell_type": "markdown",
   "metadata": {},
   "source": [
    "## Arithmetic averaging"
   ]
  },
  {
   "cell_type": "markdown",
   "metadata": {},
   "source": [
    "Compute vectors for all sentences"
   ]
  },
  {
   "cell_type": "code",
   "execution_count": 5,
   "metadata": {},
   "outputs": [],
   "source": [
    "amean_composer = ArithmeticMeanVector(base_word_embeddings)\n",
    "amean_vectors = precompute_composite_embeddings(amean_composer, sentences)\n",
    "amean_vectors.cache_normalized_copy()"
   ]
  },
  {
   "cell_type": "markdown",
   "metadata": {},
   "source": [
    "Find most similar to already seen sentence"
   ]
  },
  {
   "cell_type": "code",
   "execution_count": 6,
   "metadata": {},
   "outputs": [
    {
     "data": {
      "text/plain": [
       "[['family dashwood long settled sussex', 1.0],\n",
       " ['weeks day brought sir john middleton first letter norland every thing far settled future abode enable mrs dashwood daughters begin journey',\n",
       "  0.8137271],\n",
       " ['former marriage henry dashwood one son present lady three daughters',\n",
       "  0.8104211],\n",
       " ['man one maids sent immediately devonshire prepare house mistress arrival lady middleton entirely unknown mrs dashwood preferred going directly cottage visitor barton park relied undoubtingly sir john description house feel curiosity examine till entered',\n",
       "  0.80173826],\n",
       " ['death happened ten years produced great alteration home supply loss invited received house family nephew henry dashwood legal inheritor norland estate person intended bequeath',\n",
       "  0.8003257],\n",
       " ['dashwood wished sake wife daughters son son son son child four years old secured way leave power providing dear needed provision charge estate sale valuable woods',\n",
       "  0.7940601],\n",
       " ['circumstance growing attachment eldest girl brother mrs john dashwood gentleman like pleasing young man introduced acquaintance soon sister establishment norland since spent greatest part time',\n",
       "  0.786814],\n",
       " ['mrs john dashwood said nothing husband civilly hoped would settled far norland',\n",
       "  0.7851621],\n",
       " ['earnestly pressed giving particulars house garden come daughters barton park place residence whence might judge whether barton cottage houses parish could alteration made comfortable',\n",
       "  0.7837837],\n",
       " ['contempt early acquaintance felt daughter law much increased farther knowledge character half year residence family afforded perhaps spite every consideration politeness maternal affection side former two ladies might found impossible lived together long particular circumstance occurred give still greater eligibility according opinions mrs dashwood daughters continuance norland',\n",
       "  0.78356767]]"
      ]
     },
     "execution_count": 6,
     "metadata": {},
     "output_type": "execute_result"
    }
   ],
   "source": [
    "amean_vectors.get_most_similar_words(sentences[0])"
   ]
  },
  {
   "cell_type": "markdown",
   "metadata": {},
   "source": [
    "Find most similar to previously unseen sentence"
   ]
  },
  {
   "cell_type": "code",
   "execution_count": 7,
   "metadata": {
    "scrolled": false
   },
   "outputs": [
    {
     "data": {
      "text/plain": [
       "[['something must done whenever leave norland settle new home', 0.9078134],\n",
       " ['said much earnest desire living sociable terms family pressed cordially dine barton park every day till better settled home though entreaties carried point perseverance beyond civility could give offence',\n",
       "  0.895985],\n",
       " ['assistance thought dare say might reasonably expected instance looking comfortable small house helping move things sending presents fish game forth whenever season',\n",
       "  0.8933379],\n",
       " ['knew mother neither behaved make home comfortable present give assurance might form home without strictly attending views aggrandizement',\n",
       "  0.89094794],\n",
       " ['mean time till alterations could made savings income five hundred year woman never saved life wise enough contented house busy arranging particular concerns endeavoring placing around books possessions form home',\n",
       "  0.88760793],\n",
       " ['said marianne wandered alone house last evening shall cease regret learn feel home elsewhere',\n",
       "  0.88650155],\n",
       " ['opportunity soon given dashwoods debating rest children sir john would leave house without securing promise dining park next day',\n",
       "  0.8786746],\n",
       " ['parlors small parties friends hope see often collected thoughts throwing passage one perhaps part leave remainder entrance new drawing room may easily added bed chamber garret make snug little cottage',\n",
       "  0.8776363],\n",
       " ['earnestly pressed giving particulars house garden come daughters barton park place residence whence might judge whether barton cottage houses parish could alteration made comfortable',\n",
       "  0.8750699],\n",
       " ['house sure said small family make tolerably comfortable present late year improvements',\n",
       "  0.87461674]]"
      ]
     },
     "execution_count": 7,
     "metadata": {},
     "output_type": "execute_result"
    }
   ],
   "source": [
    "query_sentence = 'they have come home'\n",
    "query_vector = amean_composer.get_vector(word_tokenize_txt(query_sentence))\n",
    "amean_vectors.get_most_similar_words(query_vector)"
   ]
  },
  {
   "cell_type": "code",
   "execution_count": null,
   "metadata": {},
   "outputs": [],
   "source": []
  }
 ],
 "metadata": {
  "kernelspec": {
   "display_name": "Python 3",
   "language": "python",
   "name": "python3"
  },
  "language_info": {
   "codemirror_mode": {
    "name": "ipython",
    "version": 3
   },
   "file_extension": ".py",
   "mimetype": "text/x-python",
   "name": "python",
   "nbconvert_exporter": "python",
   "pygments_lexer": "ipython3",
   "version": "3.6.4"
  }
 },
 "nbformat": 4,
 "nbformat_minor": 2
}
