{
 "cells": [
  {
   "cell_type": "markdown",
   "metadata": {},
   "source": [
    "# Show how to build compositional embeddings for sentences and how to search similar sentences\n",
    "\n",
    "This is a sketch, I will finish it tomorrow if needed"
   ]
  },
  {
   "cell_type": "code",
   "execution_count": null,
   "metadata": {},
   "outputs": [],
   "source": [
    "from vecto.embeddings.dense import WordEmbeddingsDense\n",
    "from vecto.embeddings.composite import IDFArithmeticMeanVector, precompute_composite_embeddings\n",
    "from vecto.corpus import DirCorpus\n",
    "from vecto.vocabulary import create_from_dir"
   ]
  },
  {
   "cell_type": "code",
   "execution_count": null,
   "metadata": {},
   "outputs": [],
   "source": [
    "INPUT_CORPUS_PATH = './tests/data/corpora/plain/'"
   ]
  },
  {
   "cell_type": "markdown",
   "metadata": {},
   "source": [
    "Load pretrained word-level embeddings"
   ]
  },
  {
   "cell_type": "code",
   "execution_count": null,
   "metadata": {},
   "outputs": [],
   "source": [
    "base_word_embeddings = WordEmbeddingsDense()\n",
    "# base_word_embeddings.load_from_*  # tomorrow I will add gensim loader, so it will be more convenient to load pretrained embeddings"
   ]
  },
  {
   "cell_type": "markdown",
   "metadata": {},
   "source": [
    "Load vocabulary with frequencies and list of sentences"
   ]
  },
  {
   "cell_type": "code",
   "execution_count": null,
   "metadata": {},
   "outputs": [],
   "source": [
    "vocab_with_frequencies = create_from_dir(INPUT_CORPUS_PATH)\n",
    "sentences = [' '.join(s) for s in DirCorpus(INPUT_CORPUS_PATH, by_line=False).get_sentence_iterator()]"
   ]
  },
  {
   "cell_type": "markdown",
   "metadata": {},
   "source": [
    "Compute vectors for all sentences"
   ]
  },
  {
   "cell_type": "code",
   "execution_count": null,
   "metadata": {},
   "outputs": [],
   "source": [
    "vector_composer = IDFArithmeticMeanVector(base_word_embeddings, vocab=vocab_with_frequencies)\n",
    "sentences_vectors = precompute_composite_embeddings(vector_composer, sentences)\n",
    "sentences_vectors.cache_normalized_copy()"
   ]
  },
  {
   "cell_type": "markdown",
   "metadata": {},
   "source": [
    "Find most similar to already seen sentence"
   ]
  },
  {
   "cell_type": "code",
   "execution_count": null,
   "metadata": {},
   "outputs": [],
   "source": [
    "sentences_vectors.get_most_similar_words(sentences[0])"
   ]
  },
  {
   "cell_type": "markdown",
   "metadata": {},
   "source": [
    "Find most similar to previously unseen sentence"
   ]
  },
  {
   "cell_type": "code",
   "execution_count": null,
   "metadata": {},
   "outputs": [],
   "source": [
    "query_sentence = 'they have come home'\n",
    "query_vector = vector_composer.get_vector(query_sentence.split(' '))\n",
    "sentences_vectors.get_most_similar_words(query_vector)"
   ]
  }
 ],
 "metadata": {
  "kernelspec": {
   "display_name": "Python 3",
   "language": "python",
   "name": "python3"
  },
  "language_info": {
   "codemirror_mode": {
    "name": "ipython",
    "version": 3
   },
   "file_extension": ".py",
   "mimetype": "text/x-python",
   "name": "python",
   "nbconvert_exporter": "python",
   "pygments_lexer": "ipython3",
   "version": "3.6.4"
  }
 },
 "nbformat": 4,
 "nbformat_minor": 2
}
