{
 "cells": [
  {
   "cell_type": "markdown",
   "metadata": {},
   "source": [
    "### Import modules"
   ]
  },
  {
   "cell_type": "code",
   "execution_count": 1,
   "metadata": {},
   "outputs": [],
   "source": [
    "import sys\n",
    "sys.path.insert(0, '../../vecto/') "
   ]
  },
  {
   "cell_type": "code",
   "execution_count": 2,
   "metadata": {},
   "outputs": [],
   "source": [
    "from vecto.benchmarks.categorization import *\n",
    "from vecto.benchmarks.outliers import *\n",
    "from vecto.benchmarks.synonymy_detection import *\n",
    "import vecto.embeddings"
   ]
  },
  {
   "cell_type": "markdown",
   "metadata": {},
   "source": [
    "### Load embeddings"
   ]
  },
  {
   "cell_type": "code",
   "execution_count": 3,
   "metadata": {},
   "outputs": [],
   "source": [
    "embeddings = vecto.embeddings.load_from_dir('../../../temp/')"
   ]
  },
  {
   "cell_type": "markdown",
   "metadata": {},
   "source": [
    "### Categorization"
   ]
  },
  {
   "cell_type": "code",
   "execution_count": 4,
   "metadata": {},
   "outputs": [
    {
     "data": {
      "text/plain": [
       "[{'word_stats': {'0. tiger': {'true_category': 'cats',\n",
       "    'predicted_category': 'cats',\n",
       "    'hit': 'true',\n",
       "    'distance_to_centroid': 0.8389172564699584},\n",
       "   '1. cat': {'true_category': 'cats',\n",
       "    'predicted_category': 'cats',\n",
       "    'hit': 'true',\n",
       "    'distance_to_centroid': 0.838917239773096},\n",
       "   '2. apple': {'true_category': 'food',\n",
       "    'predicted_category': 'food',\n",
       "    'hit': 'true',\n",
       "    'distance_to_centroid': 0.8607580212214411},\n",
       "   '3. banana': {'true_category': 'food',\n",
       "    'predicted_category': 'food',\n",
       "    'hit': 'true',\n",
       "    'distance_to_centroid': 0.8607580302348813},\n",
       "   '4. walk': {'true_category': 'motion',\n",
       "    'predicted_category': 'motion',\n",
       "    'hit': 'true',\n",
       "    'distance_to_centroid': 0.8461249680756999},\n",
       "   '5. fly': {'true_category': 'motion',\n",
       "    'predicted_category': 'motion',\n",
       "    'hit': 'true',\n",
       "    'distance_to_centroid': 0.8461249555462255}},\n",
       "  'global_stats': {'inertia': 1.6787722365054962,\n",
       "   'params': \"{'algorithm': 'auto', 'copy_x': True, 'init': 'k-means++', 'max_iter': 50, 'n_clusters': 3, 'n_init': 10, 'n_jobs': 1, 'precompute_distances': 'auto', 'random_state': None, 'tol': 0.0001, 'verbose': 0}\",\n",
       "   'scores': {'Purity': 1.0,\n",
       "    'Ari': 1.0,\n",
       "    'Homogeneity': 1.0,\n",
       "    'Completeness': 1.0,\n",
       "    'V-measure': 1.0,\n",
       "    'Mutual info': 1.1,\n",
       "    'Fowlkes-Mallows': 1.0},\n",
       "   'categories': ['cats', 'food', 'motion'],\n",
       "   'predicted_labels': [0, 0, 1, 1, 2, 2],\n",
       "   'true_labels': [0, 0, 1, 1, 2, 2]}}]"
      ]
     },
     "execution_count": 4,
     "metadata": {},
     "output_type": "execute_result"
    }
   ],
   "source": [
    "categorization = KMeansCategorization()\n",
    "categorization.get_result(embeddings, '../tests/data/benchmarks/categorization')"
   ]
  },
  {
   "cell_type": "markdown",
   "metadata": {
    "collapsed": true
   },
   "source": [
    "### Outlier detection"
   ]
  },
  {
   "cell_type": "code",
   "execution_count": 5,
   "metadata": {},
   "outputs": [
    {
     "data": {
      "text/plain": [
       "[{'cats': {'cat': {'distances': [['tiger', 0.41],\n",
       "     ['run', 0.21],\n",
       "     ['walk', 0.28]],\n",
       "    'is_outlier': False,\n",
       "    'average': 0.3,\n",
       "    'hit': False},\n",
       "   'tiger': {'distances': [['cat', 0.41], ['run', 0.22], ['walk', 0.2]],\n",
       "    'is_outlier': False,\n",
       "    'average': 0.28,\n",
       "    'hit': False},\n",
       "   'run': {'distances': [['cat', 0.21], ['tiger', 0.22], ['walk', 0.47]],\n",
       "    'is_outlier': True,\n",
       "    'average': 0.3,\n",
       "    'hit': False},\n",
       "   'walk': {'distances': [['cat', 0.28], ['tiger', 0.2], ['run', 0.47]],\n",
       "    'is_outlier': True,\n",
       "    'average': 0.32,\n",
       "    'hit': False}},\n",
       "  'fruits': {'apple': {'distances': [['banana', 0.48], ['fly', 0.14]],\n",
       "    'is_outlier': False,\n",
       "    'average': 0.31,\n",
       "    'hit': False},\n",
       "   'banana': {'distances': [['apple', 0.48], ['fly', 0.18]],\n",
       "    'is_outlier': False,\n",
       "    'average': 0.33,\n",
       "    'hit': False},\n",
       "   'fly': {'distances': [['apple', 0.14], ['banana', 0.18]],\n",
       "    'is_outlier': True,\n",
       "    'average': 0.16,\n",
       "    'hit': False}}}]"
      ]
     },
     "execution_count": 5,
     "metadata": {},
     "output_type": "execute_result"
    }
   ],
   "source": [
    "outliers = AveragePairwiseCosine()\n",
    "outliers.get_result(embeddings, '../tests/data/benchmarks/outliers')"
   ]
  },
  {
   "cell_type": "markdown",
   "metadata": {},
   "source": [
    "### Synonymy detection"
   ]
  },
  {
   "cell_type": "code",
   "execution_count": 6,
   "metadata": {},
   "outputs": [
    {
     "data": {
      "text/plain": [
       "[{'tiger': [{'suspicious_word': 'cat',\n",
       "    'is_synonym': 'yes',\n",
       "    'hit': False,\n",
       "    'distance': 0.40756431221961975},\n",
       "   {'suspicious_word': 'run',\n",
       "    'is_synonym': 'no',\n",
       "    'hit': True,\n",
       "    'distance': 0.2201947569847107},\n",
       "   {'suspicious_word': 'banana',\n",
       "    'is_synonym': 'no',\n",
       "    'hit': False,\n",
       "    'distance': 0.2513542175292969}],\n",
       "  'run': [{'suspicious_word': 'walk',\n",
       "    'is_synonym': 'yes',\n",
       "    'hit': False,\n",
       "    'distance': 0.47074565291404724},\n",
       "   {'suspicious_word': 'cat',\n",
       "    'is_synonym': 'no',\n",
       "    'hit': True,\n",
       "    'distance': 0.20564627647399902}]}]"
      ]
     },
     "execution_count": 6,
     "metadata": {},
     "output_type": "execute_result"
    }
   ],
   "source": [
    "synonymy_detection = CosineDistance()\n",
    "synonymy_detection.get_result(embeddings, '../tests/data/benchmarks/synonymy_detection')"
   ]
  }
 ],
 "metadata": {
  "kernelspec": {
   "display_name": "Python 3",
   "language": "python",
   "name": "python3"
  },
  "language_info": {
   "codemirror_mode": {
    "name": "ipython",
    "version": 3
   },
   "file_extension": ".py",
   "mimetype": "text/x-python",
   "name": "python",
   "nbconvert_exporter": "python",
   "pygments_lexer": "ipython3",
   "version": "3.6.5"
  }
 },
 "nbformat": 4,
 "nbformat_minor": 2
}
