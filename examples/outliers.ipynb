{
 "cells": [
  {
   "cell_type": "code",
   "execution_count": 1,
   "metadata": {},
   "outputs": [],
   "source": [
    "import sys\n",
    "sys.path.insert(0, '../../vecto/') "
   ]
  },
  {
   "cell_type": "code",
   "execution_count": 6,
   "metadata": {},
   "outputs": [],
   "source": [
    "from vecto.benchmarks.outliers import *\n",
    "import vecto.embeddings"
   ]
  },
  {
   "cell_type": "code",
   "execution_count": 3,
   "metadata": {},
   "outputs": [],
   "source": [
    "embeddings = vecto.embeddings.load_from_dir('../../../temp/')"
   ]
  },
  {
   "cell_type": "code",
   "execution_count": 7,
   "metadata": {},
   "outputs": [],
   "source": [
    "outliers = AveragePairwiseCosine()"
   ]
  },
  {
   "cell_type": "code",
   "execution_count": 8,
   "metadata": {},
   "outputs": [
    {
     "data": {
      "text/plain": [
       "[{'cats': {'cat': {'distances': [['tiger', 0.41],\n",
       "     ['run', 0.21],\n",
       "     ['walk', 0.28]],\n",
       "    'is_outlier': False,\n",
       "    'average': 0.3,\n",
       "    'hit': False},\n",
       "   'tiger': {'distances': [['cat', 0.41], ['run', 0.22], ['walk', 0.2]],\n",
       "    'is_outlier': False,\n",
       "    'average': 0.28,\n",
       "    'hit': False},\n",
       "   'run': {'distances': [['cat', 0.21], ['tiger', 0.22], ['walk', 0.47]],\n",
       "    'is_outlier': True,\n",
       "    'average': 0.3,\n",
       "    'hit': False},\n",
       "   'walk': {'distances': [['cat', 0.28], ['tiger', 0.2], ['run', 0.47]],\n",
       "    'is_outlier': True,\n",
       "    'average': 0.32,\n",
       "    'hit': False}},\n",
       "  'fruits': {'apple': {'distances': [['banana', 0.48], ['fly', 0.14]],\n",
       "    'is_outlier': False,\n",
       "    'average': 0.31,\n",
       "    'hit': False},\n",
       "   'banana': {'distances': [['apple', 0.48], ['fly', 0.18]],\n",
       "    'is_outlier': False,\n",
       "    'average': 0.33,\n",
       "    'hit': False},\n",
       "   'fly': {'distances': [['apple', 0.14], ['banana', 0.18]],\n",
       "    'is_outlier': True,\n",
       "    'average': 0.16,\n",
       "    'hit': False}}}]"
      ]
     },
     "execution_count": 8,
     "metadata": {},
     "output_type": "execute_result"
    }
   ],
   "source": [
    "outliers.get_result(embeddings, '../tests/data/benchmarks/outliers')"
   ]
  },
  {
   "cell_type": "code",
   "execution_count": null,
   "metadata": {},
   "outputs": [],
   "source": []
  }
 ],
 "metadata": {
  "kernelspec": {
   "display_name": "Python 3",
   "language": "python",
   "name": "python3"
  },
  "language_info": {
   "codemirror_mode": {
    "name": "ipython",
    "version": 3
   },
   "file_extension": ".py",
   "mimetype": "text/x-python",
   "name": "python",
   "nbconvert_exporter": "python",
   "pygments_lexer": "ipython3",
   "version": "3.6.5"
  }
 },
 "nbformat": 4,
 "nbformat_minor": 2
}
