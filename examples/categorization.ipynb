{
 "cells": [
  {
   "cell_type": "markdown",
   "metadata": {},
   "source": [
    "### Import modules"
   ]
  },
  {
   "cell_type": "code",
   "execution_count": 1,
   "metadata": {
    "collapsed": true
   },
   "outputs": [],
   "source": [
    "import sys\n",
    "sys.path.insert(0, '../../vecto/') "
   ]
  },
  {
   "cell_type": "code",
   "execution_count": 2,
   "metadata": {
    "collapsed": true
   },
   "outputs": [],
   "source": [
    "from vecto.benchmarks.categorization import *\n",
    "import vecto.embeddings"
   ]
  },
  {
   "cell_type": "code",
   "execution_count": null,
   "metadata": {
    "collapsed": true
   },
   "outputs": [],
   "source": []
  },
  {
   "cell_type": "markdown",
   "metadata": {},
   "source": [
    "### Load embeddings"
   ]
  },
  {
   "cell_type": "code",
   "execution_count": 3,
   "metadata": {
    "collapsed": true
   },
   "outputs": [],
   "source": [
    "embeddings = vecto.embeddings.load_from_dir('../../temp')"
   ]
  },
  {
   "cell_type": "code",
   "execution_count": 4,
   "metadata": {
    "collapsed": true
   },
   "outputs": [],
   "source": [
    "categorization = KMeansCategorization()"
   ]
  },
  {
   "cell_type": "code",
   "execution_count": 5,
   "metadata": {},
   "outputs": [
    {
     "data": {
      "text/plain": [
       "[0.80000000000000004]"
      ]
     },
     "execution_count": 5,
     "metadata": {},
     "output_type": "execute_result"
    }
   ],
   "source": [
    "categorization.get_result(embeddings, '../tests/data/benchmarks/categorization')"
   ]
  },
  {
   "cell_type": "code",
   "execution_count": 5,
   "metadata": {},
   "outputs": [
    {
     "name": "stdout",
     "output_type": "stream",
     "text": [
      "cost [k=9, first] = 23.954468277350614\n",
      "[ 36.  39.  33.  23.   4.  35.  29.  43.  44.   0.   0.   0.   0.   0.   0.\n",
      "   0.   0.   0.   0.   0.   0.   0.   0.   0.   0.   0.   0.   0.   0.   0.\n",
      "   0.   0.   0.   0.   0.   0.   0.   0.   0.   0.   0.   0.   0.   0.   0.]\n"
     ]
    },
    {
     "data": {
      "text/plain": [
       "[0.82222222222222219]"
      ]
     },
     "execution_count": 5,
     "metadata": {},
     "output_type": "execute_result"
    }
   ],
   "source": [
    "categorization.get_result(embeddings, '../tests/data/benchmarks/categorization')"
   ]
  },
  {
   "cell_type": "code",
   "execution_count": 7,
   "metadata": {
    "collapsed": true
   },
   "outputs": [],
   "source": [
    "from scipy.spatial import distance\n",
    "import numpy as np\n",
    "import random\n",
    "\n",
    "\n",
    "def cost(centroids, clusters):\n",
    "    return sum(distance.cdist([centroid], cluster, 'sqeuclidean').sum()\n",
    "            for centroid, cluster in zip(centroids, clusters))\n",
    "\n",
    "\n",
    "def compute_centroids(clusters):\n",
    "    return [np.mean(cluster, axis=0) for cluster in clusters]\n",
    "\n",
    "\n",
    "def kmeans(k, centroids, points, method):\n",
    "    clusters = [[] for _ in range(k)]\n",
    "\n",
    "    for point in points:\n",
    "        clusters[closest_centroid(point, centroids)].append(point)\n",
    "\n",
    "    new_centroids = compute_centroids(clusters)\n",
    "\n",
    "    if not equals(centroids, new_centroids):\n",
    "        print(\"cost [k={}, {}] = {}\".format(k, method, cost(new_centroids, clusters)))\n",
    "\n",
    "        clusters = kmeans(k, new_centroids, points, method)\n",
    "\n",
    "    return clusters\n",
    "\n",
    "\n",
    "def closest_centroid(point, centroids):\n",
    "    min_distance = float('inf')\n",
    "    belongs_to_cluster = None\n",
    "    for j, centroid in enumerate(centroids):\n",
    "        dist = distance.sqeuclidean(point, centroid)\n",
    "        if dist < min_distance:\n",
    "            min_distance = dist\n",
    "            belongs_to_cluster = j\n",
    "\n",
    "    return belongs_to_cluster\n",
    "\n",
    "\n",
    "def contains(point1, points):\n",
    "    for point2 in points:\n",
    "        if point1[0] == point2[0] and point1[1] == point2[1]:\n",
    "        # if all(x == y for x, y in izip(points1, points2)):\n",
    "            return True\n",
    "\n",
    "    return False\n",
    "\n",
    "\n",
    "def equals(points1, points2):\n",
    "    if len(points1) != len(points2):\n",
    "        return False\n",
    "\n",
    "    for point1, point2 in zip(points1, points2):\n",
    "        if point1[0] != point2[0] or point1[1] != point2[1]:\n",
    "        # if any(x != y for x, y in izip(points1, points2)):\n",
    "            return False\n",
    "\n",
    "    return True"
   ]
  },
  {
   "cell_type": "code",
   "execution_count": 6,
   "metadata": {},
   "outputs": [],
   "source": [
    "data = [[-19.0748,     -8.536       ],\n",
    "            [ 22.0108,      -10.9737    ],\n",
    "            [ 12.6597,      19.2601     ],\n",
    "            [ 11.26884087,  19.90132146 ],\n",
    "            [ 15.44640731,  21.13121676 ],\n",
    "            [-20.03865146,  -8.820872829],\n",
    "            [-19.65417726,  -8.211477352],\n",
    "            [-15.97295894,  -9.648002534],\n",
    "            [-18.74359696,  -5.383551586],\n",
    "            [-19.453215,   -8.146120006],\n",
    "            [-16.43074088,  -7.524968005],\n",
    "            [-19.75512437,  -8.533215751],\n",
    "            [-19.56237082,  -8.798668569],\n",
    "            [-19.47135573,  -8.057217004],\n",
    "            [-18.60946986,  -4.475888949],\n",
    "            [-21.59368337,  -10.38712463],\n",
    "            [-15.39158057,  -3.8336522  ],\n",
    "            [-40.0,          40.0       ]]\n"
   ]
  },
  {
   "cell_type": "code",
   "execution_count": 14,
   "metadata": {},
   "outputs": [],
   "source": [
    "from sklearn.cluster import KMeans"
   ]
  },
  {
   "cell_type": "code",
   "execution_count": 13,
   "metadata": {},
   "outputs": [],
   "source": [
    "km = KMeans()\n",
    "labels = km.fit_predict(data, np.zeros(len(data)))"
   ]
  },
  {
   "cell_type": "code",
   "execution_count": 15,
   "metadata": {},
   "outputs": [
    {
     "data": {
      "text/plain": [
       "array([1, 0, 2, 2, 6, 1, 1, 5, 7, 1, 5, 1, 1, 1, 7, 1, 4, 3], dtype=int32)"
      ]
     },
     "execution_count": 15,
     "metadata": {},
     "output_type": "execute_result"
    }
   ],
   "source": [
    "labels"
   ]
  },
  {
   "cell_type": "code",
   "execution_count": 16,
   "metadata": {},
   "outputs": [
    {
     "data": {
      "text/plain": [
       "array([[ 22.0108    , -10.9737    ],\n",
       "       [-19.82542225,  -8.68633702],\n",
       "       [ 11.96427044,  19.58071073],\n",
       "       [-40.        ,  40.        ],\n",
       "       [-15.39158057,  -3.8336522 ],\n",
       "       [-16.20184991,  -8.58648527],\n",
       "       [ 15.44640731,  21.13121676],\n",
       "       [-18.67653341,  -4.92972027]])"
      ]
     },
     "execution_count": 16,
     "metadata": {},
     "output_type": "execute_result"
    }
   ],
   "source": [
    "km.cluster_centers_"
   ]
  },
  {
   "cell_type": "code",
   "execution_count": 22,
   "metadata": {},
   "outputs": [],
   "source": [
    "a = km.get_params"
   ]
  },
  {
   "cell_type": "code",
   "execution_count": 25,
   "metadata": {},
   "outputs": [
    {
     "data": {
      "text/plain": [
       "\"<bound method BaseEstimator.get_params of KMeans(algorithm='auto', copy_x=True, init='k-means++', max_iter=300,\\n    n_clusters=8, n_init=10, n_jobs=1, precompute_distances='auto',\\n    random_state=None, tol=0.0001, verbose=0)>\""
      ]
     },
     "execution_count": 25,
     "metadata": {},
     "output_type": "execute_result"
    }
   ],
   "source": [
    "str(a)"
   ]
  },
  {
   "cell_type": "code",
   "execution_count": null,
   "metadata": {
    "collapsed": true
   },
   "outputs": [],
   "source": []
  }
 ],
 "metadata": {
  "kernelspec": {
   "display_name": "Python 3",
   "language": "python",
   "name": "python3"
  },
  "language_info": {
   "codemirror_mode": {
    "name": "ipython",
    "version": 3
   },
   "file_extension": ".py",
   "mimetype": "text/x-python",
   "name": "python",
   "nbconvert_exporter": "python",
   "pygments_lexer": "ipython3",
   "version": "3.6.1"
  }
 },
 "nbformat": 4,
 "nbformat_minor": 2
}
